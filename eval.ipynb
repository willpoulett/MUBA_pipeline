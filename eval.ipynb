{
 "cells": [
  {
   "cell_type": "code",
   "execution_count": 37,
   "metadata": {},
   "outputs": [],
   "source": [
    "import os, glob, re, cv2\n",
    "import numpy as np\n",
    "import pandas as pd\n",
    "import matplotlib.pyplot as plt\n",
    "import tensorflow as tf\n",
    "import random\n",
    "\n",
    "import matplotlib.pyplot as plt\n",
    "%matplotlib inline\n",
    "\n",
    "import seaborn as sns\n",
    "\n",
    "from sklearn.model_selection import train_test_split\n",
    "\n",
    "from tensorflow import keras\n",
    "from tensorflow.keras import layers, activations, optimizers, losses, metrics, initializers\n",
    "from tensorflow.keras.preprocessing import image, image_dataset_from_directory\n",
    "from tensorflow.keras.applications.resnet_v2 import preprocess_input, decode_predictions\n",
    "\n",
    "from keras import utils\n",
    "from sklearn.preprocessing import LabelEncoder"
   ]
  },
  {
   "cell_type": "markdown",
   "metadata": {},
   "source": [
    "# Prepare Data"
   ]
  },
  {
   "cell_type": "code",
   "execution_count": 38,
   "metadata": {},
   "outputs": [],
   "source": [
    "# dir_path points towards where to find the image dataset\n",
    "dir_path = \"data/archive/Dataset_BUSI_with_GT/\"\n",
    "IMAGE_SHAPE = (224, 224)\n",
    "\n",
    "random_sample = 1\n",
    "\n",
    "# IMPORTANT - Check these are correct\n"
   ]
  },
  {
   "cell_type": "code",
   "execution_count": 39,
   "metadata": {},
   "outputs": [
    {
     "data": {
      "text/plain": [
       "(1578, 1578)"
      ]
     },
     "execution_count": 39,
     "metadata": {},
     "output_type": "execute_result"
    }
   ],
   "source": [
    "# Read the folders folders\n",
    "directories = os.listdir(dir_path)\n",
    "\n",
    "files = [] \n",
    "labels = []\n",
    "\n",
    "# Read files for each directory\n",
    "for folder in directories:\n",
    "    \n",
    "    fileList = glob.glob(f'{dir_path}/{folder}/*')\n",
    "    labels.extend([folder for _ in fileList])\n",
    "    files.extend(fileList)\n",
    "\n",
    "len(files), len(labels)"
   ]
  },
  {
   "cell_type": "code",
   "execution_count": 40,
   "metadata": {},
   "outputs": [
    {
     "name": "stdout",
     "output_type": "stream",
     "text": [
      "{'benign': 891, 'malignant': 421, 'normal': 266}\n"
     ]
    }
   ],
   "source": [
    "# Count the number of labels to get an idea of how balanced the dataset is\n",
    "unique, counts = np.unique(labels, return_counts=True)\n",
    "print(dict(zip(unique, counts)))"
   ]
  },
  {
   "cell_type": "code",
   "execution_count": 41,
   "metadata": {},
   "outputs": [
    {
     "name": "stdout",
     "output_type": "stream",
     "text": [
      "Classes are ['benign' 'malignant' 'normal']\n"
     ]
    }
   ],
   "source": [
    "# One hot encoding\n",
    "\n",
    "# Encode class values as integers\n",
    "encoder = LabelEncoder()\n",
    "encoder.fit(labels)\n",
    "encoded_Y = encoder.transform(labels)\n",
    "\n",
    "# convert integers to dummy variables (i.e. one hot encoded)\n",
    "dummy_y = utils.to_categorical(encoded_Y,dtype =\"uint8\", num_classes = 3)\n",
    "\n",
    "labels = np.array(dummy_y)\n",
    "\n",
    "print(f\"Classes are {encoder.classes_}\")"
   ]
  },
  {
   "cell_type": "code",
   "execution_count": 42,
   "metadata": {},
   "outputs": [
    {
     "data": {
      "text/plain": [
       "(780, 780)"
      ]
     },
     "execution_count": 42,
     "metadata": {},
     "output_type": "execute_result"
    }
   ],
   "source": [
    "# Create two lists to hold only non-mask images and label for each one\n",
    "selected_files = []\n",
    "selected_labels = []\n",
    "\n",
    "for file, label in zip(files, labels):\n",
    "    if 'mask' not in file:\n",
    "        selected_files.append(file)\n",
    "        selected_labels.append(label)\n",
    "\n",
    "len(selected_files), len(selected_labels)"
   ]
  },
  {
   "cell_type": "code",
   "execution_count": 43,
   "metadata": {},
   "outputs": [],
   "source": [
    "# Split the data into testing, training and validation data\n",
    "# As using a random sample = 100, the testing set is the same as used for the model.\n",
    "x_train, x_tv, y_train, y_tv = train_test_split(selected_files, selected_labels, test_size=.3, random_state = random_sample)\n",
    "x_test, x_val, y_test, y_val = train_test_split(x_tv, y_tv, test_size=.5, random_state = random_sample)\n"
   ]
  },
  {
   "cell_type": "code",
   "execution_count": 44,
   "metadata": {},
   "outputs": [
    {
     "name": "stdout",
     "output_type": "stream",
     "text": [
      "Preparing testing data\n"
     ]
    }
   ],
   "source": [
    "images = []\n",
    "labels = []\n",
    "\n",
    "print(\"Preparing testing data\")\n",
    "for file, label in zip(x_test, y_test):\n",
    "\n",
    "    # Prepare the image\n",
    "    new_file = image.load_img(file, target_size=IMAGE_SHAPE)\n",
    "    img_array = image.img_to_array(new_file)\n",
    "    # Append to array\n",
    "    images.append(img_array)\n",
    "    labels.append(label)"
   ]
  },
  {
   "cell_type": "code",
   "execution_count": 45,
   "metadata": {},
   "outputs": [
    {
     "name": "stdout",
     "output_type": "stream",
     "text": [
      "Benign: 68  Malignant: 27  Normal: 22\n"
     ]
    }
   ],
   "source": [
    "class_counts = [sum(col) for col in zip(*labels)]\n",
    "print(f\"Benign: {class_counts[0]}  Malignant: {class_counts[1]}  Normal: {class_counts[2]}\")"
   ]
  },
  {
   "cell_type": "code",
   "execution_count": 10,
   "metadata": {},
   "outputs": [],
   "source": [
    "def get_balance_iters(label):\n",
    "    # Returns a value for over-sampling if balancing the data\n",
    "    if label[0] == 1: # Benign\n",
    "        return 1\n",
    "    elif label[1] == 1: # Malignant\n",
    "        return 2\n",
    "    else: # Normal\n",
    "        return 3\n",
    "\n",
    "# The data augmentation to do. This applies a random horizontal flip and a random tilt.\n",
    "data_augmentation = tf.keras.Sequential([\n",
    "  layers.RandomFlip(\"horizontal_and_vertical\"),\n",
    "  layers.RandomRotation((-0.1, 0.1)),\n",
    "])"
   ]
  },
  {
   "cell_type": "code",
   "execution_count": 11,
   "metadata": {},
   "outputs": [],
   "source": [
    "# IMPORTANT\n",
    "\n",
    "MUBA_BALANCE = True # If true data will be oversampled to create balanced classes\n",
    "AUGMENT = True # Recommended True if balancing\n",
    "\n",
    "MIX_UP_LOOPS = 10 # How many times to create mix up images per image"
   ]
  },
  {
   "cell_type": "code",
   "execution_count": 14,
   "metadata": {},
   "outputs": [],
   "source": [
    "all_lams= []\n",
    "all_new_labels= []\n",
    "all_mixed_up_images = []\n",
    "\n",
    "\n",
    "for img, label in zip(images,labels):\n",
    "\n",
    "    if AUGMENT:\n",
    "        img = data_augmentation(img)\n",
    "\n",
    "    if MUBA_BALANCE:\n",
    "        balance_iters = get_balance_iters(label)\n",
    "\n",
    "    for i in range(MIX_UP_LOOPS):\n",
    "        for j in range(balance_iters):\n",
    "\n",
    "            # Get index of label\n",
    "            i_array = np.where(label == 1)[0]\n",
    "\n",
    "            while len(i_array) != 3:\n",
    "\n",
    "                # Get a new mixup image\n",
    "                mixup_idx = random.randint(0, len(labels)-1)\n",
    "                mixup_label = labels[mixup_idx]\n",
    "                mixup_i = np.where(mixup_label == 1)[0][0]\n",
    "\n",
    "                # Check mixup image has a different label\n",
    "                if mixup_i not in i_array:\n",
    "                    # Add index to i_array \n",
    "                    i_array = np.append(i_array, mixup_i)\n",
    "\n",
    "                    #Read image\n",
    "                    mixup_image = images[mixup_idx]\n",
    "                    if AUGMENT:\n",
    "                        mixup_image = data_augmentation(mixup_image)\n",
    "\n",
    "                    # Mixup images\n",
    "                    lam = np.random.rand()\n",
    "                    new_img = lam * img + (1 - lam) * mixup_image   \n",
    "                    new_label = lam * label + (1 - lam) * mixup_label\n",
    "                    #Append images\n",
    "                    all_lams.append(lam)\n",
    "                    all_new_labels.append(new_label)\n",
    "                    all_mixed_up_images.append(new_img)\n",
    "\n"
   ]
  },
  {
   "cell_type": "markdown",
   "metadata": {},
   "source": [
    "# Load Models"
   ]
  },
  {
   "cell_type": "code",
   "execution_count": 15,
   "metadata": {},
   "outputs": [],
   "source": [
    "simple_model = keras.models.load_model(\"best_simple_model_2.h5\")\n",
    "\n",
    "#mix_up_beta_model =\n",
    "\n",
    "#mix_up_simple_model ="
   ]
  },
  {
   "cell_type": "markdown",
   "metadata": {},
   "source": [
    "# Predictions and Testing"
   ]
  },
  {
   "cell_type": "code",
   "execution_count": 19,
   "metadata": {},
   "outputs": [
    {
     "name": "stdout",
     "output_type": "stream",
     "text": [
      "4/4 [==============================] - 7s 2s/step\n"
     ]
    }
   ],
   "source": [
    "from sklearn.metrics import ConfusionMatrixDisplay\n",
    "\n",
    "# Get Predictions\n",
    "simple_result = simple_model.predict(np.stack(images))\n",
    "pred_array = [[0,1,2][np.argmax(individual_result)] for individual_result in simple_result]"
   ]
  },
  {
   "cell_type": "code",
   "execution_count": 30,
   "metadata": {},
   "outputs": [
    {
     "name": "stdout",
     "output_type": "stream",
     "text": [
      "Simple Model Percentage Correct = 63.25%\n"
     ]
    }
   ],
   "source": [
    "simple_true = 0\n",
    "for pred, label in zip(pred_array, labels):\n",
    "    if np.where(label == 1)[0][0] == pred:\n",
    "        simple_true += 1\n",
    "\n",
    "print(f\"Simple Model Percentage Correct = {round((simple_true * 100)/len(labels),2)}%\")"
   ]
  },
  {
   "cell_type": "code",
   "execution_count": 31,
   "metadata": {},
   "outputs": [
    {
     "data": {
      "image/png": "[encoded data removed]",
      "text/plain": [
       "<Figure size 1000x1000 with 2 Axes>"
      ]
     },
     "metadata": {},
     "output_type": "display_data"
    }
   ],
   "source": [
    "y_actual = []\n",
    "for pred in y_test:\n",
    "    \n",
    "    if pred[0] == 1:\n",
    "        y_actual.append(0)\n",
    "    if pred[1] == 1:\n",
    "        y_actual.append(1)\n",
    "    if pred[2] == 1:\n",
    "        y_actual.append(2)\n",
    "\n",
    "\n",
    "fig, ax = plt.subplots(figsize=(10, 10))\n",
    "cm = ConfusionMatrixDisplay.from_predictions(\n",
    "    y_actual,\n",
    "    pred_array,\n",
    "    ax=ax,\n",
    "    xticks_rotation=90,\n",
    "    colorbar=True,\n",
    "    display_labels = [\"Benign\",\"Malignant\",\"Normal\"]\n",
    ")"
   ]
  },
  {
   "cell_type": "markdown",
   "metadata": {},
   "source": [
    "# MUBA"
   ]
  },
  {
   "cell_type": "code",
   "execution_count": 32,
   "metadata": {},
   "outputs": [],
   "source": [
    "\n",
    "# Benign - Malignant\n",
    "bm_img = []\n",
    "bm_label = []\n",
    "bm_lams = []\n",
    "# Benign - Normal\n",
    "bn_img = []\n",
    "bn_label = []\n",
    "bn_lams = []\n",
    "# Malignant - Normal\n",
    "mn_img = []\n",
    "mn_label = []\n",
    "mn_lams = []\n",
    "\n",
    "counter = 0\n",
    "total = len(all_lams)\n",
    "# Classes are ['benign' 'malignant' 'normal']\n",
    "for image, label, lam in zip(all_mixed_up_images, all_new_labels, all_lams):\n",
    "    \n",
    "    if label[0] == 0: # Malignant - Normal\n",
    "        mn_img.append(image)\n",
    "        mn_label.append(label)\n",
    "\n",
    "    if label[1] == 0: # Benign - Normal\n",
    "        bn_img.append(image)\n",
    "        bn_label.append(label)\n",
    "\n",
    "    if label[2] == 0: # Benign - Malignant\n",
    "        bm_img.append(image)\n",
    "        bm_label.append(label)\n",
    "\n",
    "    \n",
    "bm_lams = [x[0] for x in bm_label] # % benign in bm pairs\n",
    "bn_lams = [x[0] for x in bn_label] # % benign in bn pairs\n",
    "mn_lams = [x[1] for x in mn_label] # % malignant in mn pairs"
   ]
  },
  {
   "cell_type": "code",
   "execution_count": 33,
   "metadata": {},
   "outputs": [
    {
     "data": {
      "text/plain": [
       "Text(0.5, 1.0, 'Malignant - Normal Pairs')"
      ]
     },
     "execution_count": 33,
     "metadata": {},
     "output_type": "execute_result"
    },
    {
     "data": {
      "image/png": "[encoded data removed]",
      "text/plain": [
       "<Figure size 1200x300 with 3 Axes>"
      ]
     },
     "metadata": {},
     "output_type": "display_data"
    }
   ],
   "source": [
    "fig, axs = plt.subplots(1,3, figsize = (12,3), sharey = True)\n",
    "\n",
    "axs[0].hist(bm_lams,bins=20)\n",
    "axs[0].set_xlabel(\"Proportion Benign\")\n",
    "axs[0].set_ylabel(\"N\")\n",
    "axs[0].set_title(\"Benign - Malignant Pairs\")\n",
    "\n",
    "axs[1].hist(bn_lams,bins=20)\n",
    "axs[1].set_xlabel(\"Proportion Benign\")\n",
    "axs[1].set_ylabel(\"N\")\n",
    "axs[1].set_title(\"Benign - Normal Pairs\")\n",
    "\n",
    "axs[2].hist(mn_lams,bins=20)\n",
    "axs[2].set_xlabel(\"Proportion Malignant\")\n",
    "axs[2].set_ylabel(\"N\")\n",
    "axs[2].set_title(\"Malignant - Normal Pairs\")"
   ]
  },
  {
   "cell_type": "code",
   "execution_count": 35,
   "metadata": {},
   "outputs": [
    {
     "name": "stdout",
     "output_type": "stream",
     "text": [
      "Processing MN pairs...\n",
      "91/91 [==============================] - 183s 2s/step\n",
      "Processing BN pairs\n",
      "90/90 [==============================] - 187s 2s/step\n",
      "Processing BM pairs\n",
      "93/93 [==============================] - 199s 2s/step\n"
     ]
    }
   ],
   "source": [
    "#Initialise arrays\n",
    "incorrect_mn = []\n",
    "incorrect_bn = []\n",
    "incorrect_bm = []\n",
    "correct_mn = []\n",
    "correct_bn = []\n",
    "correct_bm = []\n",
    "\n",
    "print(\"Processing MN pairs...\")\n",
    "\n",
    "# Make predictions\n",
    "result = simple_model.predict(np.stack(mn_img))\n",
    "# Turn predictions into an array of 0s, 1s and 2s.\n",
    "prediction = [[0,1,2][np.argmax(individual_result)] for individual_result in result]\n",
    "#Check if prediction is correct\n",
    "for pred, label, lam in zip(prediction, mn_label, bn_lams):\n",
    "    if pred != [0,1,2][np.argmax(label)]:\n",
    "        incorrect_mn.append(lam)\n",
    "    else:\n",
    "        correct_mn.append(lam)\n",
    "\n",
    "#Repeat aboce for Bn and BM pairs\n",
    "print(\"Processing BN pairs\")\n",
    "\n",
    "result = simple_model.predict(np.stack(bn_img))\n",
    "prediction = [[0,1,2][np.argmax(individual_result)] for individual_result in result]\n",
    "for pred, label, lam in zip(prediction, bn_label, bn_lams):\n",
    "    if pred != [0,1,2][np.argmax(label)]:\n",
    "        incorrect_bn.append(lam)\n",
    "    else:\n",
    "        correct_bn.append(lam)\n",
    "\n",
    "print(\"Processing BM pairs\")\n",
    "\n",
    "result = simple_model.predict(np.stack(bm_img))\n",
    "prediction = [[0,1,2][np.argmax(individual_result)] for individual_result in result]\n",
    "for pred, label, lam in zip(prediction, bm_label, bm_lams):\n",
    "    if pred != [0,1,2][np.argmax(label)]:\n",
    "        incorrect_bm.append(lam)\n",
    "    else:\n",
    "        correct_bm.append(lam)\n"
   ]
  },
  {
   "cell_type": "code",
   "execution_count": 36,
   "metadata": {},
   "outputs": [
    {
     "data": {
      "text/plain": [
       "Text(0.895, 0.77, 'Skew: 0.01')"
      ]
     },
     "execution_count": 36,
     "metadata": {},
     "output_type": "execute_result"
    },
    {
     "data": {
      "image/png": "[encoded data removed]",
      "text/plain": [
       "<Figure size 1200x300 with 3 Axes>"
      ]
     },
     "metadata": {},
     "output_type": "display_data"
    }
   ],
   "source": [
    "from scipy.stats import skew\n",
    "\n",
    "fig, axs = plt.subplots(1,3, figsize = (12,3), sharey = True)\n",
    "\n",
    "axs[0].hist(incorrect_bm,bins=20)\n",
    "axs[0].axvline(np.mean(incorrect_bm), color='k', linestyle='dashed', linewidth=1)\n",
    "axs[0].set_xlabel(\"Proportion Benign\")\n",
    "axs[0].set_ylabel(\"Number Incorrect\")\n",
    "axs[0].set_title(\"Benign - Malignant Pairs\")\n",
    "axs[0].text(0.35,0.82,f\"SD: {round(np.std(incorrect_bm),2)}\",transform=plt.gcf().transFigure, horizontalalignment = \"right\")\n",
    "axs[0].text(0.35,0.77,f\"Skew: {round(skew(incorrect_bm),2)}\",transform=plt.gcf().transFigure, horizontalalignment = \"right\")\n",
    "\n",
    "axs[1].hist(incorrect_bn,bins=20)\n",
    "axs[1].axvline(np.mean(incorrect_bn), color='k', linestyle='dashed', linewidth=1)\n",
    "axs[1].set_xlabel(\"Proportion Benign\")\n",
    "axs[1].set_ylabel(\"Number Incorrect\")\n",
    "axs[1].set_title(\"Benign - Normal Pairs\")\n",
    "axs[1].text(0.62,0.82,f\"SD: {round(np.std(incorrect_bn),2)}\",transform=plt.gcf().transFigure, horizontalalignment = \"right\")\n",
    "axs[1].text(0.62,0.77,f\"Skew: {round(skew(incorrect_bn),2)}\",transform=plt.gcf().transFigure, horizontalalignment = \"right\")\n",
    "\n",
    "axs[2].hist(incorrect_mn,bins=20)\n",
    "axs[2].axvline(np.mean(incorrect_mn), color='k', linestyle='dashed', linewidth=1)\n",
    "axs[2].set_xlabel(\"Proportion Malignant\")\n",
    "axs[2].set_ylabel(\"Number Incorrect\")\n",
    "axs[2].set_title(\"Malignant - Normal Pairs\")\n",
    "axs[2].text(0.895,0.82,f\"SD: {round(np.std(incorrect_mn),2)}\",transform=plt.gcf().transFigure, horizontalalignment = \"right\")\n",
    "axs[2].text(0.895,0.77,f\"Skew: {round(skew(incorrect_mn),2)}\",transform=plt.gcf().transFigure, horizontalalignment = \"right\")"
   ]
  }
 ],
 "metadata": {
  "kernelspec": {
   "display_name": "Python 3",
   "language": "python",
   "name": "python3"
  },
  "language_info": {
   "codemirror_mode": {
    "name": "ipython",
    "version": 3
   },
   "file_extension": ".py",
   "mimetype": "text/x-python",
   "name": "python",
   "nbconvert_exporter": "python",
   "pygments_lexer": "ipython3",
   "version": "3.11.3"
  },
  "orig_nbformat": 4
 },
 "nbformat": 4,
 "nbformat_minor": 2
}
