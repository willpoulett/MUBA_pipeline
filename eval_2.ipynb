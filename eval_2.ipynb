{
 "cells": [
  {
   "cell_type": "code",
   "execution_count": 1,
   "metadata": {},
   "outputs": [],
   "source": [
    "import os, glob, re, cv2\n",
    "import numpy as np\n",
    "import pandas as pd\n",
    "import matplotlib.pyplot as plt\n",
    "import tensorflow as tf\n",
    "import random\n",
    "\n",
    "import matplotlib.pyplot as plt\n",
    "%matplotlib inline\n",
    "\n",
    "import seaborn as sns\n",
    "\n",
    "from sklearn.model_selection import train_test_split\n",
    "\n",
    "from tensorflow import keras\n",
    "from tensorflow.keras import layers\n",
    "from tensorflow.keras.preprocessing import image\n",
    "\n",
    "import sklearn\n",
    "from keras import utils\n",
    "from sklearn.preprocessing import LabelEncoder"
   ]
  },
  {
   "cell_type": "code",
   "execution_count": 2,
   "metadata": {},
   "outputs": [],
   "source": [
    "# dir_path points towards where to find the image dataset\n",
    "dir_path = \"data/archive/Dataset_BUSI_with_GT/\"\n",
    "IMAGE_SHAPE = (224, 224)\n",
    "\n",
    "# This is a good sample as it gives a good mix of val data\n",
    "random_sample = 1\n"
   ]
  },
  {
   "cell_type": "code",
   "execution_count": 3,
   "metadata": {},
   "outputs": [
    {
     "data": {
      "text/plain": [
       "(1578, 1578)"
      ]
     },
     "execution_count": 3,
     "metadata": {},
     "output_type": "execute_result"
    }
   ],
   "source": [
    "# Read the folders folders\n",
    "directories = os.listdir(dir_path)\n",
    "\n",
    "files = [] \n",
    "labels = []\n",
    "\n",
    "# Read files for each directory\n",
    "for folder in directories:\n",
    "    \n",
    "    fileList = glob.glob(f'{dir_path}/{folder}/*')\n",
    "    labels.extend([folder for _ in fileList])\n",
    "    files.extend(fileList)\n",
    "\n",
    "len(files), len(labels)"
   ]
  },
  {
   "cell_type": "code",
   "execution_count": 4,
   "metadata": {},
   "outputs": [
    {
     "name": "stdout",
     "output_type": "stream",
     "text": [
      "{'benign': 891, 'malignant': 421, 'normal': 266}\n"
     ]
    }
   ],
   "source": [
    "# Count the number of labels to get an idea of how balanced the dataset is\n",
    "unique, counts = np.unique(labels, return_counts=True)\n",
    "print(dict(zip(unique, counts)))"
   ]
  },
  {
   "cell_type": "code",
   "execution_count": 5,
   "metadata": {},
   "outputs": [
    {
     "name": "stdout",
     "output_type": "stream",
     "text": [
      "Classes are ['benign' 'malignant' 'normal']\n"
     ]
    }
   ],
   "source": [
    "# One hot encoding\n",
    "\n",
    "# Encode class values as integers\n",
    "encoder = LabelEncoder()\n",
    "encoder.fit(labels)\n",
    "encoded_Y = encoder.transform(labels)\n",
    "\n",
    "# convert integers to dummy variables (i.e. one hot encoded)\n",
    "dummy_y = utils.to_categorical(encoded_Y,dtype =\"uint8\", num_classes = 3)\n",
    "\n",
    "labels = np.array(dummy_y)\n",
    "\n",
    "print(f\"Classes are {encoder.classes_}\")"
   ]
  },
  {
   "cell_type": "code",
   "execution_count": 6,
   "metadata": {},
   "outputs": [
    {
     "data": {
      "text/plain": [
       "(780, 780)"
      ]
     },
     "execution_count": 6,
     "metadata": {},
     "output_type": "execute_result"
    }
   ],
   "source": [
    "# Create two lists to hold only non-mask images and label for each one\n",
    "selected_files = []\n",
    "selected_labels = []\n",
    "\n",
    "for file, label in zip(files, labels):\n",
    "    if 'mask' not in file:\n",
    "        selected_files.append(file)\n",
    "        selected_labels.append(label)\n",
    "\n",
    "len(selected_files), len(selected_labels)"
   ]
  },
  {
   "cell_type": "code",
   "execution_count": 7,
   "metadata": {},
   "outputs": [],
   "source": [
    "# Split the data into testing, training and validation data\n",
    "# As using a random sample = 100, the testing set is the same as used for the model.\n",
    "x_train, x_tv, y_train, y_tv = train_test_split(selected_files, selected_labels, test_size=.3, random_state = random_sample)\n",
    "x_test, x_val, y_test, y_val = train_test_split(x_tv, y_tv, test_size=.5, random_state = random_sample)\n"
   ]
  },
  {
   "cell_type": "code",
   "execution_count": 8,
   "metadata": {},
   "outputs": [
    {
     "name": "stdout",
     "output_type": "stream",
     "text": [
      "Preparing testing data\n"
     ]
    }
   ],
   "source": [
    "images = []\n",
    "labels = []\n",
    "\n",
    "print(\"Preparing testing data\")\n",
    "for file, label in zip(x_test, y_test):\n",
    "\n",
    "    # Prepare the image\n",
    "    new_file = image.load_img(file, target_size=IMAGE_SHAPE)\n",
    "    img_array = image.img_to_array(new_file)\n",
    "    # Append to array\n",
    "    images.append(img_array)\n",
    "    labels.append(label)"
   ]
  },
  {
   "cell_type": "code",
   "execution_count": 9,
   "metadata": {},
   "outputs": [
    {
     "name": "stdout",
     "output_type": "stream",
     "text": [
      "Benign: 68  Malignant: 27  Normal: 22\n"
     ]
    }
   ],
   "source": [
    "class_counts = [sum(col) for col in zip(*labels)]\n",
    "print(f\"Benign: {class_counts[0]}  Malignant: {class_counts[1]}  Normal: {class_counts[2]}\")"
   ]
  },
  {
   "cell_type": "code",
   "execution_count": 10,
   "metadata": {},
   "outputs": [],
   "source": [
    "model = keras.models.load_model(\"best_mixup_beta_model_2.h5\")"
   ]
  },
  {
   "cell_type": "code",
   "execution_count": 11,
   "metadata": {},
   "outputs": [
    {
     "name": "stdout",
     "output_type": "stream",
     "text": [
      "4/4 [==============================] - 9s 2s/step\n"
     ]
    }
   ],
   "source": [
    "basic_results = model.predict(np.stack(images))"
   ]
  },
  {
   "cell_type": "code",
   "execution_count": 12,
   "metadata": {},
   "outputs": [],
   "source": [
    "argmax_preds = [np.argmax(r) for r in basic_results]\n",
    "labels = [np.argmax(label) for label in y_test] \n",
    "acc = sklearn.metrics.accuracy_score(labels,argmax_preds)"
   ]
  },
  {
   "cell_type": "code",
   "execution_count": 13,
   "metadata": {},
   "outputs": [
    {
     "name": "stdout",
     "output_type": "stream",
     "text": [
      "0.8034188034188035\n"
     ]
    }
   ],
   "source": [
    "print(acc)"
   ]
  },
  {
   "cell_type": "code",
   "execution_count": 14,
   "metadata": {},
   "outputs": [],
   "source": [
    "initial_df = pd.DataFrame()\n",
    "initial_df[\"class\"] = labels \n",
    "initial_df[\"image_index\"] = [i for i in range(len(images))]\n",
    "initial_df[\"confidence_class_0\"] = [alpha[0] for alpha in basic_results]\n",
    "initial_df[\"confidence_class_1\"] = [alpha[1] for alpha in basic_results]\n",
    "initial_df[\"confidence_class_2\"] = [alpha[2] for alpha in basic_results]"
   ]
  },
  {
   "cell_type": "code",
   "execution_count": 15,
   "metadata": {},
   "outputs": [],
   "source": [
    "class_zero_df = initial_df[initial_df[\"class\"] == 0] \n",
    "class_one_df = initial_df[initial_df[\"class\"] == 1]\n",
    "class_two_df = initial_df[initial_df[\"class\"] == 2]\n",
    "class_one_length = len(class_one_df)\n",
    "class_two_length = len(class_two_df)\n",
    "class_zero_length = len(class_zero_df)"
   ]
  },
  {
   "cell_type": "code",
   "execution_count": 16,
   "metadata": {},
   "outputs": [
    {
     "name": "stdout",
     "output_type": "stream",
     "text": [
      "68 27 22\n"
     ]
    }
   ],
   "source": [
    "print(class_zero_length,class_one_length,class_two_length)"
   ]
  },
  {
   "cell_type": "code",
   "execution_count": 17,
   "metadata": {},
   "outputs": [],
   "source": [
    "def get_balance_iters(label):\n",
    "    # Returns a value for over-sampling if balancing the data\n",
    "    if label[0] == 1: # Benign\n",
    "        return 1\n",
    "    elif label[1] == 1: # Malignant\n",
    "        return 2\n",
    "    else: # Normal\n",
    "        return 3\n",
    "\n",
    "# The data augmentation to do. This applies a random horizontal flip and a random tilt.\n",
    "data_augmentation = tf.keras.Sequential([\n",
    "  layers.RandomFlip(\"horizontal_and_vertical\"),\n",
    "  layers.RandomRotation((-0.3, 0.3)),\n",
    "])"
   ]
  },
  {
   "cell_type": "code",
   "execution_count": 18,
   "metadata": {},
   "outputs": [],
   "source": [
    "# IMPORTANT\n",
    "\n",
    "MUBA_BALANCE = True # If true data will be oversampled to create balanced classes\n",
    "AUGMENT = True # Recommended True if balancing\n",
    "\n",
    "MUBA_ITERS = 20 # How many times to create mix up images per image"
   ]
  },
  {
   "cell_type": "code",
   "execution_count": 19,
   "metadata": {},
   "outputs": [],
   "source": [
    "muba_df_01 = pd.DataFrame(columns = [\n",
    "                    \"alpha_class_0\",\n",
    "                    \"alpha_class_1\",\n",
    "                    \"image\",\n",
    "    ])\n",
    "muba_df_02 = pd.DataFrame(columns = [\n",
    "                    \"alpha_class_0\",\n",
    "                    \"alpha_class_1\",\n",
    "                    \"image\",\n",
    "    ])\n",
    "muba_df_12 = pd.DataFrame(columns = [\n",
    "                    \"alpha_class_0\",\n",
    "                    \"alpha_class_1\",\n",
    "                    \"image\",\n",
    "    ])"
   ]
  },
  {
   "cell_type": "code",
   "execution_count": 20,
   "metadata": {},
   "outputs": [],
   "source": [
    "def return_muba_df(df1,df2,MUBA_ITERS = MUBA_ITERS):\n",
    "\n",
    "    muba_df = pd.DataFrame(columns = [\n",
    "                    \"alpha_class_0\",\n",
    "                    \"alpha_class_1\",\n",
    "                    \"image\"])\n",
    "\n",
    "    for index0, row0 in df1.iterrows():\n",
    "\n",
    "        for index1, row1 in df2.iterrows():\n",
    "\n",
    "            for i in range(MUBA_ITERS):\n",
    "                    \n",
    "                # Mixup images\n",
    "                lam = (1/MUBA_ITERS) * np.random.rand() + ( (i) / MUBA_ITERS)\n",
    "                new_img = lam * images[int(row0[\"image_index\"])] + (1 - lam) * images[int(row1[\"image_index\"])]\n",
    "\n",
    "                row = pd.DataFrame([({ \"alpha_class_0\": lam, # row 0 is multiplied by lam\n",
    "                        \"alpha_class_1\": 1-lam,\n",
    "                        \"image\": new_img,\n",
    "                        })])\n",
    "                    \n",
    "                    \n",
    "                muba_df = pd.concat([muba_df, row],axis=0, ignore_index=True)\n",
    "\n",
    "    return muba_df\n",
    "\n",
    "\n",
    "\n",
    "muba_df_01 = return_muba_df(class_zero_df,class_one_df)\n",
    "muba_df_02 = return_muba_df(class_zero_df,class_two_df)\n",
    "muba_df_12 = return_muba_df(class_one_df, class_two_df)\n",
    "    \n",
    "\n",
    "            "
   ]
  },
  {
   "cell_type": "code",
   "execution_count": 21,
   "metadata": {},
   "outputs": [
    {
     "name": "stdout",
     "output_type": "stream",
     "text": [
      " 162/1148 [===>..........................] - ETA: 46:41"
     ]
    }
   ],
   "source": [
    "# Get Predictions\n",
    "result_01 = model.predict(np.stack(muba_df_01[\"image\"]))\n",
    "result_02 = model.predict(np.stack(muba_df_02[\"image\"]))\n",
    "result_12 = model.predict(np.stack(muba_df_12[\"image\"]))"
   ]
  },
  {
   "cell_type": "code",
   "execution_count": null,
   "metadata": {},
   "outputs": [],
   "source": [
    "analysis_df_01 = muba_df_01.drop('image',axis=1)\n",
    "analysis_df_02 = muba_df_02.drop('image',axis=1)\n",
    "analysis_df_12 = muba_df_12.drop('image',axis=1)"
   ]
  },
  {
   "cell_type": "code",
   "execution_count": null,
   "metadata": {},
   "outputs": [],
   "source": [
    "def get_boundary_points(df,result):\n",
    "    \n",
    "    predictions = pd.DataFrame()\n",
    "    predictions[\"pred\"] = [np.argmax(res) for res in result]\n",
    "\n",
    "    # Merge on predictions\n",
    "    analysis_df = df.join(predictions)\n",
    "    boundary_df = pd.DataFrame(columns = [\"alpha\"])\n",
    "\n",
    "    for i in range(int(len(analysis_df)/MUBA_ITERS)):\n",
    "        # Create a mask to split df in to blocks of 20\n",
    "        mask = (analysis_df.index >= MUBA_ITERS*i) & (analysis_df.index < MUBA_ITERS*i + MUBA_ITERS)\n",
    "        window_df = analysis_df.loc[mask]\n",
    "\n",
    "        # Find the index in which the prediction changes\n",
    "        changing_pred_index = (window_df[\"pred\"].diff()[window_df[\"pred\"].diff() != 0].index.values)\n",
    "        for boundary in changing_pred_index[1:]: # If pred doesn't change will equal 1\n",
    "            row0 = window_df[window_df.index == boundary-1]\n",
    "            row1 = window_df[window_df.index == boundary]\n",
    "            middle_alpha = row1[\"alpha_class_1\"][boundary] + row0[\"alpha_class_1\"][boundary-1] / 2 \n",
    "            new_row = pd.DataFrame([{\n",
    "                \"alpha\":middle_alpha,\n",
    "            }])\n",
    "            \n",
    "            boundary_df = pd.concat([boundary_df, new_row], axis=0, ignore_index = True)\n",
    "    \n",
    "    return boundary_df,analysis_df\n",
    "\n",
    "boundary_01,analysis_df_01 = get_boundary_points(analysis_df_01,result_01)\n",
    "boundary_02,analysis_df_02 = get_boundary_points(analysis_df_02,result_02)\n",
    "boundary_12,analysis_df_12 = get_boundary_points(analysis_df_12,result_12)"
   ]
  },
  {
   "cell_type": "code",
   "execution_count": null,
   "metadata": {},
   "outputs": [],
   "source": [
    "incorrect_alphas_01 = (analysis_df_01[analysis_df_01[\"pred\"] != analysis_df_01[\"alpha_class_1\"].round()])[\"alpha_class_1\"]\n",
    "\n",
    "# Corrrect if alpha_class_1 > 0.5 and prediction == 2 , or if alpha_class_1 < 0.5 and prediction == 0\n",
    "incorrect_alphas_02 = (analysis_df_02[ ((analysis_df_02[\"alpha_class_1\"].round() == 1) & (analysis_df_02[\"pred\"] != 2)) | ((analysis_df_02[\"alpha_class_1\"].round() == 0) & (analysis_df_02[\"pred\"] != 0)) ])[\"alpha_class_1\"]\n",
    "\n",
    "# # If correct, pred should = 1+1 when round(alpha_class_1) == 1 OR pred should = 0+1 when round(alpha_class_0) == 0 \n",
    "incorrect_alphas_12 = (analysis_df_12[analysis_df_12[\"pred\"] != analysis_df_12[\"alpha_class_1\"].round()+1])[\"alpha_class_1\"]"
   ]
  },
  {
   "cell_type": "code",
   "execution_count": null,
   "metadata": {},
   "outputs": [
    {
     "data": {
      "text/plain": [
       "Text(0.07, 0.27, 'Boundary Distribution Curve')"
      ]
     },
     "execution_count": 26,
     "metadata": {},
     "output_type": "execute_result"
    },
    {
     "data": {
      "image/png": "[encoded data removed]",
      "text/plain": [
       "<Figure size 1400x600 with 6 Axes>"
      ]
     },
     "metadata": {},
     "output_type": "display_data"
    }
   ],
   "source": [
    "fig, axs = plt.subplots(2,3, figsize = (14,6))\n",
    "\n",
    "plt.subplots_adjust(hspace=0.3,wspace=0.2)\n",
    "for ax in axs.flatten():\n",
    "    ax.set_xlim(0,1)\n",
    "\n",
    "axs[0][0].hist(incorrect_alphas_01, bins = [0.05*i for i in range(21)])\n",
    "axs[0][0].set_title(\"Benign - Malignant Pairs\", fontweight='bold')\n",
    "axs[0][0].set_xlabel(\"Proportion Malignant\")\n",
    "axs[0][0].set_ylabel(\"N\")\n",
    "axs[0][0].axvline(np.mean(incorrect_alphas_01),color = \"black\", linestyle=\"--\", label = f\"Mean: {round(np.mean(incorrect_alphas_01),2)}\")\n",
    "axs[0][0].legend()\n",
    "\n",
    "axs[0][1].hist(incorrect_alphas_02, bins = [0.05*i for i in range(21)])\n",
    "axs[0][1].set_title(\"Benign - Normal Pairs\", fontweight='bold')\n",
    "axs[0][1].set_xlabel(\"Proportion Normal\")\n",
    "axs[0][1].set_ylabel(\"N\")\n",
    "axs[0][1].axvline(np.mean(incorrect_alphas_02),color = \"black\", linestyle=\"--\", label = f\"Mean: {round(np.mean(incorrect_alphas_02),2)}\")\n",
    "axs[0][1].legend()\n",
    "\n",
    "axs[0][2].hist(incorrect_alphas_12, bins = [0.05*i for i in range(21)])\n",
    "axs[0][2].set_title(\"Malignant - Normal Pairs\", fontweight='bold')\n",
    "axs[0][2].set_xlabel(\"Proportion Normal\")\n",
    "axs[0][2].set_ylabel(\"N\")\n",
    "axs[0][2].axvline(np.mean(incorrect_alphas_12),color = \"black\", linestyle=\"--\", label = f\"Mean: {round(np.mean(incorrect_alphas_12),2)}\")\n",
    "axs[0][2].legend()\n",
    "axs[1][0].hist(boundary_01[\"alpha\"], bins = [0.05*i for i in range(21)], color = \"green\")\n",
    "axs[1][0].set_xlabel(\"Proportion Malignant\")\n",
    "axs[1][0].set_ylabel(\"N\")\n",
    "axs[1][0].axvline(np.mean(boundary_01[\"alpha\"]),color = \"black\", linestyle=\"--\", label = f\"Mean: {round(np.mean(boundary_01['alpha']),2)}\")\n",
    "axs[1][0].legend()\n",
    "\n",
    "axs[1][1].hist(boundary_02[\"alpha\"], bins = [0.05*i for i in range(21)], color = \"green\")\n",
    "axs[1][1].set_xlabel(\"Proportion Normal\")\n",
    "axs[1][1].set_ylabel(\"N\")\n",
    "axs[1][1].axvline(np.mean(boundary_02[\"alpha\"]),color = \"black\", linestyle=\"--\", label = f\"Mean: {round(np.mean(boundary_02['alpha']),2)}\")\n",
    "axs[1][1].legend()\n",
    "\n",
    "axs[1][2].hist(boundary_12[\"alpha\"], bins = [0.05*i for i in range(21)], color = \"green\")\n",
    "axs[1][2].set_xlabel(\"Proportion Normal\")\n",
    "axs[1][2].set_ylabel(\"N\")\n",
    "axs[1][2].axvline(np.mean(boundary_12[\"alpha\"]),color = \"black\", linestyle=\"--\", label = f\"Mean: {round(np.mean(boundary_12['alpha']),2)}\")\n",
    "axs[1][2].legend()\n",
    "\n",
    "fig.text(0.07,0.7,\"Error Distribution Curve\", rotation = 90, va = \"center\")\n",
    "fig.text(0.07,0.27,\"Boundary Distribution Curve\", rotation = 90, va = \"center\")\n"
   ]
  },
  {
   "cell_type": "code",
   "execution_count": null,
   "metadata": {},
   "outputs": [],
   "source": []
  }
 ],
 "metadata": {
  "kernelspec": {
   "display_name": "Python 3",
   "language": "python",
   "name": "python3"
  },
  "language_info": {
   "codemirror_mode": {
    "name": "ipython",
    "version": 3
   },
   "file_extension": ".py",
   "mimetype": "text/x-python",
   "name": "python",
   "nbconvert_exporter": "python",
   "pygments_lexer": "ipython3",
   "version": "3.11.3"
  },
  "orig_nbformat": 4
 },
 "nbformat": 4,
 "nbformat_minor": 2
}
