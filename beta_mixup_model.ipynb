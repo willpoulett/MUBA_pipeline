{
 "cells": [
  {
   "cell_type": "markdown",
   "metadata": {},
   "source": [
    "# Model Training for MUBA"
   ]
  },
  {
   "cell_type": "code",
   "execution_count": 1,
   "metadata": {},
   "outputs": [],
   "source": [
    "import os, glob, re, cv2\n",
    "import numpy as np\n",
    "import pandas as pd\n",
    "import matplotlib.pyplot as plt\n",
    "import tensorflow as tf\n",
    "import random\n",
    "\n",
    "import matplotlib.pyplot as plt\n",
    "%matplotlib inline\n",
    "\n",
    "import seaborn as sns\n",
    "\n",
    "from sklearn.model_selection import train_test_split\n",
    "\n",
    "from tensorflow import keras\n",
    "from tensorflow.keras import layers, activations, optimizers, losses, metrics, initializers\n",
    "from tensorflow.keras.preprocessing import image, image_dataset_from_directory\n",
    "from tensorflow.keras.applications.resnet_v2 import preprocess_input, decode_predictions\n",
    "\n",
    "from keras import utils\n",
    "from sklearn.preprocessing import LabelEncoder"
   ]
  },
  {
   "cell_type": "code",
   "execution_count": 2,
   "metadata": {},
   "outputs": [],
   "source": [
    "# dir_path points towards where to find the image dataset\n",
    "dir_path = \"data/archive/Dataset_BUSI_with_GT/\"\n",
    "IMAGE_SHAPE = (224, 224)\n",
    "\n",
    "random_sample = 1\n",
    "\n",
    "# IMPORTANT - Check these are correct\n",
    "\n",
    "MIXUP = True # Whether to train the model with mixup\n",
    "ITERS = 3 # How many mixup images to create per image\n",
    "BETA = True # Whether to sample from the beta function\n",
    "BALANCE = True # Whether to balance the data and over-sample certain classes\n",
    "AUG = True # whether to augment the data\n"
   ]
  },
  {
   "cell_type": "code",
   "execution_count": 3,
   "metadata": {},
   "outputs": [],
   "source": [
    "# The data augmentation to do. This applies a random horizontal flip and a random tilt.\n",
    "data_augmentation = tf.keras.Sequential([\n",
    "  layers.RandomFlip(\"horizontal\"),\n",
    "  layers.RandomRotation((-0.05, 0.05)),\n",
    "])\n",
    "\n",
    "# create prepare_image method\n",
    "# used to preprocess the image for efficientNet model\n",
    "\n",
    "def prepare_image(file1: str, label1: str, file2: str = None, label2: str = None, beta = False, augment = True):\n",
    "    \"\"\"Prepares the image for the model\n",
    "\n",
    "    Args:\n",
    "        file1 (str): The path of  the first image\n",
    "        label1 (str): The label of the first image\n",
    "        file2 (str, optional): The path of  the second image. If not none, applies mixup. Defaults to None.\n",
    "        label2 (str, optional): The label of the second image. Defaults to None.\n",
    "        beta (bool, optional): If true, sample from teh beta function for mixup. Defaults to False.\n",
    "        augment (bool, optional): If true, apply augmentations. Defaults to True.\n",
    "\n",
    "    Returns:\n",
    "        image, label\n",
    "    \"\"\"\n",
    "\n",
    "    # Load the first image, apply augmentations\n",
    "    img1 = image.load_img(file1, target_size=IMAGE_SHAPE)\n",
    "    if augment:\n",
    "        img1 = data_augmentation(img1)\n",
    "    img_array = image.img_to_array(img1)\n",
    "    label = label1\n",
    "\n",
    "    if file2:\n",
    "\n",
    "        # Load second image, apply augmentations\n",
    "        img2 = image.load_img(file2, target_size=IMAGE_SHAPE)\n",
    "        if augment:\n",
    "            img2 = data_augmentation(img2)\n",
    "        img_array2 = image.img_to_array(img2)\n",
    "\n",
    "        # Generate alpha value for MixUp\n",
    "        alpa = 0\n",
    "        if beta:\n",
    "            alpha = np.random.beta(0.2, 0.2, 1)\n",
    "        else:\n",
    "            alpha = random.random()\n",
    "\n",
    "        # Combine the 2 images \n",
    "        img_array = (alpha * img_array) + ((1-alpha) * img_array2)\n",
    "        label     = (alpha * label1) +    ((1-alpha) * label2)\n",
    "\n",
    "    return tf.keras.applications.efficientnet.preprocess_input (img_array), label"
   ]
  },
  {
   "cell_type": "code",
   "execution_count": 4,
   "metadata": {},
   "outputs": [
    {
     "data": {
      "text/plain": [
       "(1578, 1578)"
      ]
     },
     "execution_count": 4,
     "metadata": {},
     "output_type": "execute_result"
    }
   ],
   "source": [
    "# Read the folders folders\n",
    "directories = os.listdir(dir_path)\n",
    "\n",
    "files = [] \n",
    "labels = []\n",
    "\n",
    "# Read files for each directory\n",
    "for folder in directories:\n",
    "    \n",
    "    fileList = glob.glob(f'{dir_path}/{folder}/*')\n",
    "    labels.extend([folder for _ in fileList])\n",
    "    files.extend(fileList)\n",
    "\n",
    "len(files), len(labels)\n"
   ]
  },
  {
   "cell_type": "code",
   "execution_count": 5,
   "metadata": {},
   "outputs": [
    {
     "name": "stdout",
     "output_type": "stream",
     "text": [
      "{'benign': 891, 'malignant': 421, 'normal': 266}\n"
     ]
    }
   ],
   "source": [
    "# Count the number of labels to get an idea of how balanced the dataset is\n",
    "unique, counts = np.unique(labels, return_counts=True)\n",
    "print(dict(zip(unique, counts)))"
   ]
  },
  {
   "cell_type": "code",
   "execution_count": 6,
   "metadata": {},
   "outputs": [
    {
     "name": "stdout",
     "output_type": "stream",
     "text": [
      "Classes are ['benign' 'malignant' 'normal']\n"
     ]
    }
   ],
   "source": [
    "# One hot encoding\n",
    "\n",
    "# Encode class values as integers\n",
    "encoder = LabelEncoder()\n",
    "encoder.fit(labels)\n",
    "encoded_Y = encoder.transform(labels)\n",
    "\n",
    "# convert integers to dummy variables (i.e. one hot encoded)\n",
    "dummy_y = utils.to_categorical(encoded_Y,dtype =\"uint8\", num_classes = 3)\n",
    "\n",
    "labels = np.array(dummy_y)\n",
    "\n",
    "print(f\"Classes are {encoder.classes_}\")"
   ]
  },
  {
   "cell_type": "code",
   "execution_count": 7,
   "metadata": {},
   "outputs": [
    {
     "data": {
      "text/plain": [
       "(780, 780)"
      ]
     },
     "execution_count": 7,
     "metadata": {},
     "output_type": "execute_result"
    }
   ],
   "source": [
    "# Create two lists to hold only non-mask images and label for each one\n",
    "selected_files = []\n",
    "selected_labels = []\n",
    "\n",
    "for file, label in zip(files, labels):\n",
    "    if 'mask' not in file:\n",
    "        selected_files.append(file)\n",
    "        selected_labels.append(label)\n",
    "\n",
    "len(selected_files), len(selected_labels)"
   ]
  },
  {
   "cell_type": "code",
   "execution_count": 8,
   "metadata": {},
   "outputs": [
    {
     "name": "stdout",
     "output_type": "stream",
     "text": [
      "Label is [0.19590478 0.80409522 0.        ]\n"
     ]
    },
    {
     "data": {
      "text/plain": [
       "<matplotlib.image.AxesImage at 0x1299fad5dd0>"
      ]
     },
     "execution_count": 8,
     "metadata": {},
     "output_type": "execute_result"
    },
    {
     "data": {
      "image/png": "[encoded data removed]",
      "text/plain": [
       "<Figure size 640x480 with 1 Axes>"
      ]
     },
     "metadata": {},
     "output_type": "display_data"
    }
   ],
   "source": [
    "#TEST MIXUP\n",
    "\n",
    "test_image, label = prepare_image(selected_files[70], selected_labels[70],  selected_files[502], selected_labels[502], False)\n",
    "test_image = tf.keras.utils.array_to_img(test_image)\n",
    "\n",
    "print(f\"Label is {label}\")\n",
    "\n",
    "plt.imshow(test_image, interpolation='nearest')"
   ]
  },
  {
   "cell_type": "code",
   "execution_count": 9,
   "metadata": {},
   "outputs": [],
   "source": [
    "# Split the data into testing, training and validation data\n",
    "\n",
    "x_train, x_tv, y_train, y_tv = train_test_split(selected_files, selected_labels, test_size=.3, random_state = random_sample)\n",
    "x_test, x_val, y_test, y_val = train_test_split(x_tv, y_tv, test_size=.5, random_state = random_sample)\n"
   ]
  },
  {
   "cell_type": "code",
   "execution_count": 10,
   "metadata": {},
   "outputs": [
    {
     "name": "stdout",
     "output_type": "stream",
     "text": [
      "Preparing the images...\n",
      "Preparing training data\n",
      "Preparing testing data\n",
      "Preparing validation data\n",
      "Finished.\n"
     ]
    }
   ],
   "source": [
    "\n",
    "# The dictionary holds list of images and for each one has its target/label\n",
    "images = {\n",
    "    'image_train': [], \n",
    "    'target_train': [],\n",
    "    'image_test': [], \n",
    "    'target_test': [],\n",
    "    'image_val': [],\n",
    "    'target_val': []\n",
    "}\n",
    "\n",
    "print('Preparing the images...')\n",
    "\n",
    "def get_balance_iters(label):\n",
    "    # Returns a value for over-sampling if balancing the data\n",
    "    if label[0] == 1:\n",
    "        return 1\n",
    "    elif label[1] == 1:\n",
    "        return 2\n",
    "    else:\n",
    "        return 3\n",
    "\n",
    "print(\"Preparing training data\")\n",
    "for file, label in zip(x_train, y_train):\n",
    "    # Only go through training data, testing data should not be used for mixup\n",
    "\n",
    "    # If balancing the data, use the label to find out how many times to iterate through the image\n",
    "    if BALANCE == True:\n",
    "        balance_iters = get_balance_iters(label)\n",
    "    else:\n",
    "        balance_iters = 1\n",
    "\n",
    "    for value in range(balance_iters):\n",
    "\n",
    "        if MIXUP == False:\n",
    "             # Prepare image without mixup\n",
    "            new_file, new_label = prepare_image(file, label, beta = BETA, augment = AUG)\n",
    "            images['image_train'].append(new_file)\n",
    "            images['target_train'].append(new_label)\n",
    "\n",
    "        elif MIXUP == True:\n",
    "            # Prepare image with mixup\n",
    "            # Iterate through the number of ITERS\n",
    "            for i in range(ITERS):\n",
    "                # Select a random file index\n",
    "                random_file_i = random.randint(0,len(selected_files)-1)\n",
    "                # Mixup the two images\n",
    "                new_file, new_label = prepare_image(file, label, selected_files[random_file_i],selected_labels[random_file_i], beta = BETA, augment = AUG)\n",
    "                images['image_train'].append(new_file)\n",
    "                images['target_train'].append(new_label)\n",
    "\n",
    "print(\"Preparing testing data\")\n",
    "for file, label in zip(x_test, y_test):\n",
    "\n",
    "    # If balancing the data, use the label to find out how many times to iterate through the image\n",
    "    if BALANCE == True:\n",
    "        balance_iters = get_balance_iters(label)\n",
    "    else:\n",
    "        balance_iters = 1\n",
    "\n",
    "    for value in range(balance_iters):\n",
    "        # Prepare the image\n",
    "        new_file, new_label = prepare_image(file, label, beta = BETA, augment = AUG)\n",
    "        images['image_test'].append(new_file)\n",
    "        images['target_test'].append(new_label)\n",
    "\n",
    "print(\"Preparing validation data\")\n",
    "for file, label in zip(x_val, y_val):\n",
    "\n",
    "    # If balancing the data, use the label to find out how many times to iterate through the image\n",
    "    if BALANCE == True:\n",
    "        balance_iters = get_balance_iters(label)\n",
    "    else:\n",
    "        balance_iters = 1\n",
    "\n",
    "    for value in range(balance_iters):\n",
    "        # Prepare the image\n",
    "        new_file, new_label = prepare_image(file, label, beta = BETA, augment = AUG)\n",
    "        images['image_val'].append(new_file)\n",
    "        images['target_val'].append(new_label)\n",
    "\n",
    "print('Finished.')"
   ]
  },
  {
   "cell_type": "code",
   "execution_count": 11,
   "metadata": {},
   "outputs": [
    {
     "name": "stdout",
     "output_type": "stream",
     "text": [
      "Benign: 1221.256617480262  Malignant: 775.3718422215899  Normal: 655.3715402981479\n"
     ]
    }
   ],
   "source": [
    "class_counts = [sum(col) for col in zip(*images['target_train'])]\n",
    "print(f\"Benign: {class_counts[0]}  Malignant: {class_counts[1]}  Normal: {class_counts[2]}\")"
   ]
  },
  {
   "cell_type": "code",
   "execution_count": 12,
   "metadata": {},
   "outputs": [],
   "source": [
    "# convert lists to arrays \n",
    "x_train = np.array(images['image_train'])\n",
    "y_train = np.array(images['target_train'])\n",
    "x_test  = np.array(images['image_test'])\n",
    "y_test  = np.array(images['target_test'])\n",
    "x_val   = np.array(images['image_val'])\n",
    "y_val   = np.array(images['target_val'])\n"
   ]
  },
  {
   "cell_type": "code",
   "execution_count": 13,
   "metadata": {},
   "outputs": [
    {
     "data": {
      "text/plain": [
       "((2652, 224, 224, 3),\n",
       " (188, 224, 224, 3),\n",
       " (184, 224, 224, 3),\n",
       " (2652, 3),\n",
       " (188, 3),\n",
       " (184, 3))"
      ]
     },
     "execution_count": 13,
     "metadata": {},
     "output_type": "execute_result"
    }
   ],
   "source": [
    "x_train.shape, x_test.shape, x_val.shape, y_train.shape, y_test.shape, y_val.shape"
   ]
  },
  {
   "cell_type": "code",
   "execution_count": 14,
   "metadata": {},
   "outputs": [],
   "source": [
    "# The code is creating a ResNet152V2 model with pre-trained weights from the ImageNet dataset. \n",
    "# The base model is frozen, meaning its weights will not be updated during training. \n",
    "# The code then appends additional layers on top of the base model for transfer learning.\n",
    "\n",
    "from tensorflow.keras.applications import resnet_v2\n",
    "base_model = resnet_v2.ResNet152V2(\n",
    "    include_top=False,\n",
    "    weights='imagenet',\n",
    "    input_shape=(*IMAGE_SHAPE, 3),\n",
    "    classes=3)\n",
    "\n",
    "# Freeze the base_model\n",
    "base_model.trainable = False\n",
    "\n",
    "# append my own layers on the top of the model for Transfer Learning\n",
    "x = base_model.output\n",
    "\n",
    "# 1st conv block\n",
    "x = layers.Conv2D(256, 3, padding='same')(x)\n",
    "x = layers.BatchNormalization()(x)\n",
    "x = layers.Activation('relu')(x)\n",
    "x = layers.GlobalAveragePooling2D(keepdims = True)(x)\n",
    "\n",
    "# 2nd conv block\n",
    "x = layers.Conv2D(128, 3, padding='same')(x)\n",
    "x = layers.BatchNormalization()(x)\n",
    "x = layers.Activation('relu')(x)\n",
    "x = layers.GlobalAveragePooling2D(keepdims = True)(x)\n",
    "\n",
    "# 1st FC layer\n",
    "x = layers.Flatten()(x) \n",
    "x = layers.Dense(64)(x)\n",
    "x = layers.BatchNormalization()(x)\n",
    "x = layers.Activation('relu')(x)\n",
    "\n",
    "# 2nd FC layer\n",
    "x = layers.Dense(32, activation = 'relu')(x)\n",
    "x = layers.BatchNormalization()(x)\n",
    "x = layers.Activation('relu')(x)\n",
    "x = layers.Dropout(.2)(x)\n",
    "\n",
    "x = layers.Dense(3, 'softmax')(x)\n",
    "\n",
    "incept_model = keras.models.Model(inputs = base_model.input, outputs = x)\n",
    "\n",
    "# compile the model\n",
    "incept_model.compile(optimizer=optimizers.RMSprop(.001), loss = losses.categorical_crossentropy, metrics= [metrics.CategoricalAccuracy()])\n",
    "\n",
    "# incept_model.summary()"
   ]
  },
  {
   "cell_type": "code",
   "execution_count": 15,
   "metadata": {},
   "outputs": [
    {
     "name": "stdout",
     "output_type": "stream",
     "text": [
      "Epoch 1/60\n",
      "12/83 [===>..........................] - ETA: 2:25 - loss: 1.3081 - categorical_accuracy: 0.3568"
     ]
    },
    {
     "ename": "KeyboardInterrupt",
     "evalue": "",
     "output_type": "error",
     "traceback": [
      "\u001b[1;31m---------------------------------------------------------------------------\u001b[0m",
      "\u001b[1;31mKeyboardInterrupt\u001b[0m                         Traceback (most recent call last)",
      "Cell \u001b[1;32mIn[15], line 7\u001b[0m\n\u001b[0;32m      4\u001b[0m best_model \u001b[39m=\u001b[39m keras\u001b[39m.\u001b[39mcallbacks\u001b[39m.\u001b[39mModelCheckpoint(filepath\u001b[39m=\u001b[39m\u001b[39m'\u001b[39m\u001b[39mbest_simple_model.h5\u001b[39m\u001b[39m'\u001b[39m, save_best_only\u001b[39m=\u001b[39m\u001b[39mTrue\u001b[39;00m) \n\u001b[0;32m      6\u001b[0m \u001b[39mwith\u001b[39;00m tf\u001b[39m.\u001b[39mdevice(\u001b[39m'\u001b[39m\u001b[39m/gpu:0\u001b[39m\u001b[39m'\u001b[39m):\n\u001b[1;32m----> 7\u001b[0m     history \u001b[39m=\u001b[39m incept_model\u001b[39m.\u001b[39;49mfit(x_train, y_train, batch_size\u001b[39m=\u001b[39;49m\u001b[39m32\u001b[39;49m, epochs\u001b[39m=\u001b[39;49mEPOCHS, validation_data\u001b[39m=\u001b[39;49m(x_val, y_val), callbacks\u001b[39m=\u001b[39;49m[earlyStop, best_model]) \n",
      "File \u001b[1;32mc:\\Users\\Will Poulett\\AppData\\Local\\Programs\\Python\\Python311\\Lib\\site-packages\\keras\\src\\utils\\traceback_utils.py:65\u001b[0m, in \u001b[0;36mfilter_traceback.<locals>.error_handler\u001b[1;34m(*args, **kwargs)\u001b[0m\n\u001b[0;32m     63\u001b[0m filtered_tb \u001b[39m=\u001b[39m \u001b[39mNone\u001b[39;00m\n\u001b[0;32m     64\u001b[0m \u001b[39mtry\u001b[39;00m:\n\u001b[1;32m---> 65\u001b[0m     \u001b[39mreturn\u001b[39;00m fn(\u001b[39m*\u001b[39;49margs, \u001b[39m*\u001b[39;49m\u001b[39m*\u001b[39;49mkwargs)\n\u001b[0;32m     66\u001b[0m \u001b[39mexcept\u001b[39;00m \u001b[39mException\u001b[39;00m \u001b[39mas\u001b[39;00m e:\n\u001b[0;32m     67\u001b[0m     filtered_tb \u001b[39m=\u001b[39m _process_traceback_frames(e\u001b[39m.\u001b[39m__traceback__)\n",
      "File \u001b[1;32mc:\\Users\\Will Poulett\\AppData\\Local\\Programs\\Python\\Python311\\Lib\\site-packages\\keras\\src\\engine\\training.py:1742\u001b[0m, in \u001b[0;36mModel.fit\u001b[1;34m(self, x, y, batch_size, epochs, verbose, callbacks, validation_split, validation_data, shuffle, class_weight, sample_weight, initial_epoch, steps_per_epoch, validation_steps, validation_batch_size, validation_freq, max_queue_size, workers, use_multiprocessing)\u001b[0m\n\u001b[0;32m   1734\u001b[0m \u001b[39mwith\u001b[39;00m tf\u001b[39m.\u001b[39mprofiler\u001b[39m.\u001b[39mexperimental\u001b[39m.\u001b[39mTrace(\n\u001b[0;32m   1735\u001b[0m     \u001b[39m\"\u001b[39m\u001b[39mtrain\u001b[39m\u001b[39m\"\u001b[39m,\n\u001b[0;32m   1736\u001b[0m     epoch_num\u001b[39m=\u001b[39mepoch,\n\u001b[1;32m   (...)\u001b[0m\n\u001b[0;32m   1739\u001b[0m     _r\u001b[39m=\u001b[39m\u001b[39m1\u001b[39m,\n\u001b[0;32m   1740\u001b[0m ):\n\u001b[0;32m   1741\u001b[0m     callbacks\u001b[39m.\u001b[39mon_train_batch_begin(step)\n\u001b[1;32m-> 1742\u001b[0m     tmp_logs \u001b[39m=\u001b[39m \u001b[39mself\u001b[39;49m\u001b[39m.\u001b[39;49mtrain_function(iterator)\n\u001b[0;32m   1743\u001b[0m     \u001b[39mif\u001b[39;00m data_handler\u001b[39m.\u001b[39mshould_sync:\n\u001b[0;32m   1744\u001b[0m         context\u001b[39m.\u001b[39masync_wait()\n",
      "File \u001b[1;32mc:\\Users\\Will Poulett\\AppData\\Local\\Programs\\Python\\Python311\\Lib\\site-packages\\tensorflow\\python\\util\\traceback_utils.py:150\u001b[0m, in \u001b[0;36mfilter_traceback.<locals>.error_handler\u001b[1;34m(*args, **kwargs)\u001b[0m\n\u001b[0;32m    148\u001b[0m filtered_tb \u001b[39m=\u001b[39m \u001b[39mNone\u001b[39;00m\n\u001b[0;32m    149\u001b[0m \u001b[39mtry\u001b[39;00m:\n\u001b[1;32m--> 150\u001b[0m   \u001b[39mreturn\u001b[39;00m fn(\u001b[39m*\u001b[39;49margs, \u001b[39m*\u001b[39;49m\u001b[39m*\u001b[39;49mkwargs)\n\u001b[0;32m    151\u001b[0m \u001b[39mexcept\u001b[39;00m \u001b[39mException\u001b[39;00m \u001b[39mas\u001b[39;00m e:\n\u001b[0;32m    152\u001b[0m   filtered_tb \u001b[39m=\u001b[39m _process_traceback_frames(e\u001b[39m.\u001b[39m__traceback__)\n",
      "File \u001b[1;32mc:\\Users\\Will Poulett\\AppData\\Local\\Programs\\Python\\Python311\\Lib\\site-packages\\tensorflow\\python\\eager\\polymorphic_function\\polymorphic_function.py:825\u001b[0m, in \u001b[0;36mFunction.__call__\u001b[1;34m(self, *args, **kwds)\u001b[0m\n\u001b[0;32m    822\u001b[0m compiler \u001b[39m=\u001b[39m \u001b[39m\"\u001b[39m\u001b[39mxla\u001b[39m\u001b[39m\"\u001b[39m \u001b[39mif\u001b[39;00m \u001b[39mself\u001b[39m\u001b[39m.\u001b[39m_jit_compile \u001b[39melse\u001b[39;00m \u001b[39m\"\u001b[39m\u001b[39mnonXla\u001b[39m\u001b[39m\"\u001b[39m\n\u001b[0;32m    824\u001b[0m \u001b[39mwith\u001b[39;00m OptionalXlaContext(\u001b[39mself\u001b[39m\u001b[39m.\u001b[39m_jit_compile):\n\u001b[1;32m--> 825\u001b[0m   result \u001b[39m=\u001b[39m \u001b[39mself\u001b[39;49m\u001b[39m.\u001b[39;49m_call(\u001b[39m*\u001b[39;49margs, \u001b[39m*\u001b[39;49m\u001b[39m*\u001b[39;49mkwds)\n\u001b[0;32m    827\u001b[0m new_tracing_count \u001b[39m=\u001b[39m \u001b[39mself\u001b[39m\u001b[39m.\u001b[39mexperimental_get_tracing_count()\n\u001b[0;32m    828\u001b[0m without_tracing \u001b[39m=\u001b[39m (tracing_count \u001b[39m==\u001b[39m new_tracing_count)\n",
      "File \u001b[1;32mc:\\Users\\Will Poulett\\AppData\\Local\\Programs\\Python\\Python311\\Lib\\site-packages\\tensorflow\\python\\eager\\polymorphic_function\\polymorphic_function.py:857\u001b[0m, in \u001b[0;36mFunction._call\u001b[1;34m(self, *args, **kwds)\u001b[0m\n\u001b[0;32m    854\u001b[0m   \u001b[39mself\u001b[39m\u001b[39m.\u001b[39m_lock\u001b[39m.\u001b[39mrelease()\n\u001b[0;32m    855\u001b[0m   \u001b[39m# In this case we have created variables on the first call, so we run the\u001b[39;00m\n\u001b[0;32m    856\u001b[0m   \u001b[39m# defunned version which is guaranteed to never create variables.\u001b[39;00m\n\u001b[1;32m--> 857\u001b[0m   \u001b[39mreturn\u001b[39;00m \u001b[39mself\u001b[39;49m\u001b[39m.\u001b[39;49m_no_variable_creation_fn(\u001b[39m*\u001b[39;49margs, \u001b[39m*\u001b[39;49m\u001b[39m*\u001b[39;49mkwds)  \u001b[39m# pylint: disable=not-callable\u001b[39;00m\n\u001b[0;32m    858\u001b[0m \u001b[39melif\u001b[39;00m \u001b[39mself\u001b[39m\u001b[39m.\u001b[39m_variable_creation_fn \u001b[39mis\u001b[39;00m \u001b[39mnot\u001b[39;00m \u001b[39mNone\u001b[39;00m:\n\u001b[0;32m    859\u001b[0m   \u001b[39m# Release the lock early so that multiple threads can perform the call\u001b[39;00m\n\u001b[0;32m    860\u001b[0m   \u001b[39m# in parallel.\u001b[39;00m\n\u001b[0;32m    861\u001b[0m   \u001b[39mself\u001b[39m\u001b[39m.\u001b[39m_lock\u001b[39m.\u001b[39mrelease()\n",
      "File \u001b[1;32mc:\\Users\\Will Poulett\\AppData\\Local\\Programs\\Python\\Python311\\Lib\\site-packages\\tensorflow\\python\\eager\\polymorphic_function\\tracing_compiler.py:148\u001b[0m, in \u001b[0;36mTracingCompiler.__call__\u001b[1;34m(self, *args, **kwargs)\u001b[0m\n\u001b[0;32m    145\u001b[0m \u001b[39mwith\u001b[39;00m \u001b[39mself\u001b[39m\u001b[39m.\u001b[39m_lock:\n\u001b[0;32m    146\u001b[0m   (concrete_function,\n\u001b[0;32m    147\u001b[0m    filtered_flat_args) \u001b[39m=\u001b[39m \u001b[39mself\u001b[39m\u001b[39m.\u001b[39m_maybe_define_function(args, kwargs)\n\u001b[1;32m--> 148\u001b[0m \u001b[39mreturn\u001b[39;00m concrete_function\u001b[39m.\u001b[39;49m_call_flat(\n\u001b[0;32m    149\u001b[0m     filtered_flat_args, captured_inputs\u001b[39m=\u001b[39;49mconcrete_function\u001b[39m.\u001b[39;49mcaptured_inputs)\n",
      "File \u001b[1;32mc:\\Users\\Will Poulett\\AppData\\Local\\Programs\\Python\\Python311\\Lib\\site-packages\\tensorflow\\python\\eager\\polymorphic_function\\monomorphic_function.py:1349\u001b[0m, in \u001b[0;36mConcreteFunction._call_flat\u001b[1;34m(self, args, captured_inputs)\u001b[0m\n\u001b[0;32m   1345\u001b[0m possible_gradient_type \u001b[39m=\u001b[39m gradients_util\u001b[39m.\u001b[39mPossibleTapeGradientTypes(args)\n\u001b[0;32m   1346\u001b[0m \u001b[39mif\u001b[39;00m (possible_gradient_type \u001b[39m==\u001b[39m gradients_util\u001b[39m.\u001b[39mPOSSIBLE_GRADIENT_TYPES_NONE\n\u001b[0;32m   1347\u001b[0m     \u001b[39mand\u001b[39;00m executing_eagerly):\n\u001b[0;32m   1348\u001b[0m   \u001b[39m# No tape is watching; skip to running the function.\u001b[39;00m\n\u001b[1;32m-> 1349\u001b[0m   \u001b[39mreturn\u001b[39;00m \u001b[39mself\u001b[39m\u001b[39m.\u001b[39m_build_call_outputs(\u001b[39mself\u001b[39;49m\u001b[39m.\u001b[39;49m_inference_function(\u001b[39m*\u001b[39;49margs))\n\u001b[0;32m   1350\u001b[0m forward_backward \u001b[39m=\u001b[39m \u001b[39mself\u001b[39m\u001b[39m.\u001b[39m_select_forward_and_backward_functions(\n\u001b[0;32m   1351\u001b[0m     args,\n\u001b[0;32m   1352\u001b[0m     possible_gradient_type,\n\u001b[0;32m   1353\u001b[0m     executing_eagerly)\n\u001b[0;32m   1354\u001b[0m forward_function, args_with_tangents \u001b[39m=\u001b[39m forward_backward\u001b[39m.\u001b[39mforward()\n",
      "File \u001b[1;32mc:\\Users\\Will Poulett\\AppData\\Local\\Programs\\Python\\Python311\\Lib\\site-packages\\tensorflow\\python\\eager\\polymorphic_function\\atomic_function.py:196\u001b[0m, in \u001b[0;36mAtomicFunction.__call__\u001b[1;34m(self, *args)\u001b[0m\n\u001b[0;32m    194\u001b[0m \u001b[39mwith\u001b[39;00m record\u001b[39m.\u001b[39mstop_recording():\n\u001b[0;32m    195\u001b[0m   \u001b[39mif\u001b[39;00m \u001b[39mself\u001b[39m\u001b[39m.\u001b[39m_bound_context\u001b[39m.\u001b[39mexecuting_eagerly():\n\u001b[1;32m--> 196\u001b[0m     outputs \u001b[39m=\u001b[39m \u001b[39mself\u001b[39;49m\u001b[39m.\u001b[39;49m_bound_context\u001b[39m.\u001b[39;49mcall_function(\n\u001b[0;32m    197\u001b[0m         \u001b[39mself\u001b[39;49m\u001b[39m.\u001b[39;49mname,\n\u001b[0;32m    198\u001b[0m         \u001b[39mlist\u001b[39;49m(args),\n\u001b[0;32m    199\u001b[0m         \u001b[39mlen\u001b[39;49m(\u001b[39mself\u001b[39;49m\u001b[39m.\u001b[39;49mfunction_type\u001b[39m.\u001b[39;49mflat_outputs),\n\u001b[0;32m    200\u001b[0m     )\n\u001b[0;32m    201\u001b[0m   \u001b[39melse\u001b[39;00m:\n\u001b[0;32m    202\u001b[0m     outputs \u001b[39m=\u001b[39m make_call_op_in_graph(\u001b[39mself\u001b[39m, \u001b[39mlist\u001b[39m(args))\n",
      "File \u001b[1;32mc:\\Users\\Will Poulett\\AppData\\Local\\Programs\\Python\\Python311\\Lib\\site-packages\\tensorflow\\python\\eager\\context.py:1457\u001b[0m, in \u001b[0;36mContext.call_function\u001b[1;34m(self, name, tensor_inputs, num_outputs)\u001b[0m\n\u001b[0;32m   1455\u001b[0m cancellation_context \u001b[39m=\u001b[39m cancellation\u001b[39m.\u001b[39mcontext()\n\u001b[0;32m   1456\u001b[0m \u001b[39mif\u001b[39;00m cancellation_context \u001b[39mis\u001b[39;00m \u001b[39mNone\u001b[39;00m:\n\u001b[1;32m-> 1457\u001b[0m   outputs \u001b[39m=\u001b[39m execute\u001b[39m.\u001b[39;49mexecute(\n\u001b[0;32m   1458\u001b[0m       name\u001b[39m.\u001b[39;49mdecode(\u001b[39m\"\u001b[39;49m\u001b[39mutf-8\u001b[39;49m\u001b[39m\"\u001b[39;49m),\n\u001b[0;32m   1459\u001b[0m       num_outputs\u001b[39m=\u001b[39;49mnum_outputs,\n\u001b[0;32m   1460\u001b[0m       inputs\u001b[39m=\u001b[39;49mtensor_inputs,\n\u001b[0;32m   1461\u001b[0m       attrs\u001b[39m=\u001b[39;49mattrs,\n\u001b[0;32m   1462\u001b[0m       ctx\u001b[39m=\u001b[39;49m\u001b[39mself\u001b[39;49m,\n\u001b[0;32m   1463\u001b[0m   )\n\u001b[0;32m   1464\u001b[0m \u001b[39melse\u001b[39;00m:\n\u001b[0;32m   1465\u001b[0m   outputs \u001b[39m=\u001b[39m execute\u001b[39m.\u001b[39mexecute_with_cancellation(\n\u001b[0;32m   1466\u001b[0m       name\u001b[39m.\u001b[39mdecode(\u001b[39m\"\u001b[39m\u001b[39mutf-8\u001b[39m\u001b[39m\"\u001b[39m),\n\u001b[0;32m   1467\u001b[0m       num_outputs\u001b[39m=\u001b[39mnum_outputs,\n\u001b[1;32m   (...)\u001b[0m\n\u001b[0;32m   1471\u001b[0m       cancellation_manager\u001b[39m=\u001b[39mcancellation_context,\n\u001b[0;32m   1472\u001b[0m   )\n",
      "File \u001b[1;32mc:\\Users\\Will Poulett\\AppData\\Local\\Programs\\Python\\Python311\\Lib\\site-packages\\tensorflow\\python\\eager\\execute.py:53\u001b[0m, in \u001b[0;36mquick_execute\u001b[1;34m(op_name, num_outputs, inputs, attrs, ctx, name)\u001b[0m\n\u001b[0;32m     51\u001b[0m \u001b[39mtry\u001b[39;00m:\n\u001b[0;32m     52\u001b[0m   ctx\u001b[39m.\u001b[39mensure_initialized()\n\u001b[1;32m---> 53\u001b[0m   tensors \u001b[39m=\u001b[39m pywrap_tfe\u001b[39m.\u001b[39;49mTFE_Py_Execute(ctx\u001b[39m.\u001b[39;49m_handle, device_name, op_name,\n\u001b[0;32m     54\u001b[0m                                       inputs, attrs, num_outputs)\n\u001b[0;32m     55\u001b[0m \u001b[39mexcept\u001b[39;00m core\u001b[39m.\u001b[39m_NotOkStatusException \u001b[39mas\u001b[39;00m e:\n\u001b[0;32m     56\u001b[0m   \u001b[39mif\u001b[39;00m name \u001b[39mis\u001b[39;00m \u001b[39mnot\u001b[39;00m \u001b[39mNone\u001b[39;00m:\n",
      "\u001b[1;31mKeyboardInterrupt\u001b[0m: "
     ]
    }
   ],
   "source": [
    "EPOCHS = 60 #60\n",
    "# Trains and returns incept_model. fit ( x_train y_train )\n",
    "earlyStop = keras.callbacks.EarlyStopping(patience=60) \n",
    "best_model = keras.callbacks.ModelCheckpoint(filepath='best_mixup_beta_model.h5', save_best_only=True) \n",
    "\n",
    "with tf.device('/gpu:0'):\n",
    "    history = incept_model.fit(x_train, y_train, batch_size=32, epochs=EPOCHS, validation_data=(x_val, y_val), callbacks=[earlyStop, best_model]) "
   ]
  },
  {
   "cell_type": "code",
   "execution_count": null,
   "metadata": {},
   "outputs": [],
   "source": [
    "hist = history.history\n",
    "\n",
    "plt.plot(hist['loss'], label=  'loss')\n",
    "plt.plot(hist['val_loss'], label = 'val_loss')\n",
    "plt.plot(hist['categorical_accuracy'], label='accuracy')\n",
    "plt.plot(hist['val_categorical_accuracy'], label='val_accuracy')\n",
    "plt.legend()"
   ]
  },
  {
   "cell_type": "code",
   "execution_count": null,
   "metadata": {},
   "outputs": [],
   "source": [
    "# Load the model with the best validation score\n",
    "incept_model = keras.models.load_model('best_mixup_beta_model.h5')\n",
    "\n",
    "incept_model.evaluate(x=x_test, y = y_test, batch_size=32, verbose=1)"
   ]
  },
  {
   "cell_type": "code",
   "execution_count": null,
   "metadata": {},
   "outputs": [],
   "source": [
    "\n",
    "# open train the last 100 layers\n",
    "for layer in incept_model.layers[720:]:\n",
    "    layer.trainable = True\n",
    "    \n",
    "# compile the model with new optimizer and lr=.0001\n",
    "incept_model.compile(optimizer=optimizers.RMSprop(.0001), loss = losses.categorical_crossentropy, metrics=[metrics.CategoricalAccuracy()])\n",
    "\n",
    "# incept_model.summary()"
   ]
  },
  {
   "cell_type": "code",
   "execution_count": null,
   "metadata": {},
   "outputs": [],
   "source": [
    "earlyStop = keras.callbacks.EarlyStopping(patience=60) \n",
    "best_model = keras.callbacks.ModelCheckpoint(filepath='best_mixup_beta_model_2.h5', save_best_only=True) \n",
    "\n",
    "# load the best weights\n",
    "# incept_model.set_weights(best_weights)\n",
    "\n",
    "with tf.device('/gpu:0'):\n",
    "    history = incept_model.fit(x_train, y_train, batch_size=32, epochs=EPOCHS, validation_data=(x_val, y_val), callbacks=[earlyStop, best_model]) "
   ]
  },
  {
   "cell_type": "code",
   "execution_count": null,
   "metadata": {},
   "outputs": [
    {
     "name": "stdout",
     "output_type": "stream",
     "text": [
      "6/6 [==============================] - 12s 2s/step - loss: 0.9147 - categorical_accuracy: 0.5371\n"
     ]
    }
   ],
   "source": [
    "best_model = keras.models.load_model(\"best_simple_model_2.h5\")\n",
    "\n",
    "x = best_model.evaluate(x=x_test, y = y_test, batch_size=32, verbose=1)"
   ]
  }
 ],
 "metadata": {
  "kernelspec": {
   "display_name": "Python 3",
   "language": "python",
   "name": "python3"
  },
  "language_info": {
   "codemirror_mode": {
    "name": "ipython",
    "version": 3
   },
   "file_extension": ".py",
   "mimetype": "text/x-python",
   "name": "python",
   "nbconvert_exporter": "python",
   "pygments_lexer": "ipython3",
   "version": "3.11.3"
  },
  "orig_nbformat": 4
 },
 "nbformat": 4,
 "nbformat_minor": 2
}
